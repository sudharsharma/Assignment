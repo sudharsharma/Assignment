{
 "cells": [
  {
   "cell_type": "markdown",
   "id": "f3c8cb55",
   "metadata": {},
   "source": [
    "## Numpy Exercise Questions\n"
   ]
  },
  {
   "cell_type": "markdown",
   "id": "58db33cf",
   "metadata": {},
   "source": [
    "- Create a New environment and install numpy in it\n",
    "- Check the version of numpy using pip freeze and __version__"
   ]
  },
  {
   "cell_type": "code",
   "execution_count": 3,
   "id": "b2521647",
   "metadata": {},
   "outputs": [
    {
     "name": "stdout",
     "output_type": "stream",
     "text": [
      "Requirement already satisfied: numpy in c:\\users\\admin\\anaconda3\\lib\\site-packages (2.1.3)Note: you may need to restart the kernel to use updated packages.\n",
      "\n"
     ]
    }
   ],
   "source": [
    "pip install numpy"
   ]
  },
  {
   "cell_type": "markdown",
   "id": "d82365d1",
   "metadata": {},
   "source": [
    "Given are 2 similar dimensional numpy arrays perform element wise addition\n",
    "\n",
    "\n",
    "\\begin{bmatrix}\n",
    "1 & 2 & 3 \\\\\n",
    "4 & 5 & 6 \\\\\n",
    "\\end{bmatrix}\n",
    "\n",
    "\n",
    "\n",
    "\\begin{bmatrix}\n",
    "10 & 11 & 12 \\\\\n",
    "13 & 14 & 15 \\\\\n",
    "\\end{bmatrix}\n"
   ]
  },
  {
   "cell_type": "code",
   "execution_count": 4,
   "id": "fb6f853f",
   "metadata": {},
   "outputs": [
    {
     "name": "stdout",
     "output_type": "stream",
     "text": [
      "[[11 13 15]\n",
      " [17 19 21]]\n"
     ]
    }
   ],
   "source": [
    "import numpy as np\n",
    "a = np.array([[1,2,3],[4,5,6]])\n",
    "b = np.array([[10,11,12],[13,14,15]])\n",
    "c = a+b\n",
    "print(c)"
   ]
  },
  {
   "cell_type": "markdown",
   "id": "b75de0d7",
   "metadata": {},
   "source": [
    "Multiply the following matrix with a scalar 2\n",
    "\n",
    "\n",
    "\\begin{bmatrix}\n",
    "1 & 2 & 3 \\\\\n",
    "4 & 5 & 6 \\\\\n",
    "\\end{bmatrix}\n"
   ]
  },
  {
   "cell_type": "code",
   "execution_count": 5,
   "id": "52fa7eef",
   "metadata": {},
   "outputs": [
    {
     "name": "stdout",
     "output_type": "stream",
     "text": [
      "[[ 2  4  6]\n",
      " [ 8 10 12]]\n"
     ]
    }
   ],
   "source": [
    "a = np.array([[1,2,3], [4,5,6]])\n",
    "b = np.multiply(a,2)\n",
    "print(b)"
   ]
  },
  {
   "cell_type": "markdown",
   "id": "a9a8ed5e",
   "metadata": {},
   "source": [
    "Create a identiy matrix of 4X4\n",
    "\\begin{bmatrix}\n",
    "1 & 0 & 0 & 0 \\\\\n",
    "0 & 1 & 0 & 0 \\\\\n",
    "0 & 0 & 1 & 0 \\\\\n",
    "0 & 0 & 0 & 1\n",
    "\\end{bmatrix}"
   ]
  },
  {
   "cell_type": "code",
   "execution_count": 6,
   "id": "09a12311",
   "metadata": {},
   "outputs": [
    {
     "name": "stdout",
     "output_type": "stream",
     "text": [
      "[[1 0 0 0]\n",
      " [0 1 0 0]\n",
      " [0 0 1 0]\n",
      " [0 0 0 1]]\n",
      "int64\n"
     ]
    }
   ],
   "source": [
    "a = np.eye(4, dtype = np.int64)\n",
    "print(a)\n",
    "print(a.dtype)"
   ]
  },
  {
   "attachments": {
    "image.png": {
     "image/png": "[encoded data removed]"
    }
   },
   "cell_type": "markdown",
   "id": "d5bf08f5",
   "metadata": {},
   "source": [
    "Construct a 1D array and reshape to 3D array 3X3X3 shape\n",
    "\n",
    "![image.png](attachment:image.png)"
   ]
  },
  {
   "cell_type": "code",
   "execution_count": 7,
   "id": "75a49d5e",
   "metadata": {},
   "outputs": [
    {
     "name": "stdout",
     "output_type": "stream",
     "text": [
      "[[[ 0  1  2]\n",
      "  [ 3  4  5]\n",
      "  [ 6  7  8]]\n",
      "\n",
      " [[ 9 10 11]\n",
      "  [12 13 14]\n",
      "  [15 16 17]]\n",
      "\n",
      " [[18 19 20]\n",
      "  [21 22 23]\n",
      "  [24 25 26]]]\n"
     ]
    }
   ],
   "source": [
    "array_1D = np.arange(0,27)                    # Create 1D array value from 0-26\n",
    "array_3D = array_1D.reshape(3, 3, 3)        # Reshaping the 1D array to 3D in 3x3x3\n",
    "print(array_3D)"
   ]
  },
  {
   "cell_type": "markdown",
   "id": "21be40da",
   "metadata": {},
   "source": [
    "Convert all the elements of a numpy array from float to integer datatype. Hint: use `astype`\n",
    "\n",
    "\\begin{bmatrix}\n",
    "2.5 & 3.8 & 1.5 \\\\\n",
    "4.7 & 2.9 & 1.56\n",
    "\\end{bmatrix}"
   ]
  },
  {
   "cell_type": "code",
   "execution_count": 8,
   "id": "cd3b1b91",
   "metadata": {},
   "outputs": [
    {
     "name": "stdout",
     "output_type": "stream",
     "text": [
      "[[2.5  3.8  1.5 ]\n",
      " [4.7  2.9  1.56]] \tData type of a: float64\n",
      "[[2 3 1]\n",
      " [4 2 1]] \tData type of new_a: int64\n"
     ]
    }
   ],
   "source": [
    "a = np.array([[2.5, 3.8, 1.5], [4.7, 2.9, 1.56]])\n",
    "print(a, \"\\t\" \"Data type of a:\", a.dtype)\n",
    "new_a = a.astype(int)\n",
    "print(new_a, \"\\t\" \"Data type of new_a:\", new_a.dtype)"
   ]
  },
  {
   "cell_type": "markdown",
   "id": "ca3dcd02",
   "metadata": {},
   "source": [
    "Convert a binary numpy array (containing only 0s and 1s) to a boolean numpy array: i.e. to True, False\n",
    "\n",
    "\\begin{bmatrix}\n",
    "1 & 0 & 0 \\\\\n",
    "1 & 1 & 1 \\\\\n",
    "0 & 0 & 0\n",
    "\\end{bmatrix}"
   ]
  },
  {
   "cell_type": "code",
   "execution_count": 9,
   "id": "0db95f40",
   "metadata": {},
   "outputs": [
    {
     "name": "stdout",
     "output_type": "stream",
     "text": [
      "Original array:\n",
      " [[1 0 0]\n",
      " [0 1 0]\n",
      " [0 0 1]]\n",
      "Bool array:\n",
      " [[ True False False]\n",
      " [False  True False]\n",
      " [False False  True]]\n"
     ]
    }
   ],
   "source": [
    "original_array = np.array([[1,0,0], [ 0,1,0], [0,0,1]])\n",
    "print(f\"Original array:\\n {original_array}\")\n",
    "boolian_a = original_array.astype(bool)\n",
    "print(f\"Bool array:\\n {boolian_a}\")"
   ]
  },
  {
   "cell_type": "markdown",
   "id": "ae42bb1b",
   "metadata": {},
   "source": [
    "Horizontally stack the following matrix\n",
    "\n",
    "\\begin{bmatrix}\n",
    "1 & 2 & 3 \\\\\n",
    "4 & 5 & 6\n",
    "\\end{bmatrix}\n",
    "\n",
    "\\begin{bmatrix}\n",
    "7 & 8 & 9 \\\\\n",
    "10 & 11 & 12\n",
    "\\end{bmatrix}"
   ]
  },
  {
   "cell_type": "code",
   "execution_count": 10,
   "id": "fa6ba516",
   "metadata": {},
   "outputs": [
    {
     "name": "stdout",
     "output_type": "stream",
     "text": [
      "[[ 1  2  3  7  8  9]\n",
      " [ 4  5  6 10 11 12]]\n"
     ]
    }
   ],
   "source": [
    "arr_1=np.array([[1,2,3],[4,5,6]])\n",
    "arr_2=np.array([[7,8,9],[10, 11, 12]])\n",
    "\n",
    "new_arr =np.hstack((arr_1,arr_2))\n",
    "print(new_arr)"
   ]
  },
  {
   "cell_type": "markdown",
   "id": "b26e7b5a",
   "metadata": {},
   "source": [
    "Generate a sequence of numbers in the form of a numpy array from 0 to 100 with gaps of 2 numbers: Hint use `np.arange`\n",
    "\n",
    "output: `[  0   2   4   6   8  10  12  14  16  18  20  22  24  26  28  30  32  34\n",
    "  36  38  40  42  44  46  48  50  52  54  56  58  60  62  64  66  68  70\n",
    "  72  74  76  78  80  82  84  86  88  90  92  94  96  98 100]`"
   ]
  },
  {
   "cell_type": "code",
   "execution_count": 11,
   "id": "5ebb66b6",
   "metadata": {},
   "outputs": [
    {
     "name": "stdout",
     "output_type": "stream",
     "text": [
      "[  0   2   4   6   8  10  12  14  16  18  20  22  24  26  28  30  32  34\n",
      "  36  38  40  42  44  46  48  50  52  54  56  58  60  62  64  66  68  70\n",
      "  72  74  76  78  80  82  84  86  88  90  92  94  96  98 100]\n"
     ]
    }
   ],
   "source": [
    "ran_arr = np.arange(0,102,2)\n",
    "print(ran_arr)"
   ]
  },
  {
   "cell_type": "markdown",
   "id": "f5293fe5",
   "metadata": {},
   "source": [
    "Write a NumPy program that creates a large 1D array using `np.random.rand` and write a function to calculate the sum of its elements using a for loop. Then, optimize it using NumPy's built-in functions."
   ]
  },
  {
   "cell_type": "code",
   "execution_count": 12,
   "id": "1c8fc8b3",
   "metadata": {},
   "outputs": [
    {
     "name": "stdout",
     "output_type": "stream",
     "text": [
      "Sum of random numnber using loop:\t500026.38991437305\n"
     ]
    }
   ],
   "source": [
    "#using loop here\n",
    "\n",
    "random_number = np.random.rand(1000000)\n",
    "sum = 0\n",
    "for number in random_number:\n",
    "    sum += number\n",
    "print(f\"Sum of random numnber using loop:\\t{sum}\")\n"
   ]
  },
  {
   "cell_type": "code",
   "execution_count": 13,
   "id": "bb015849",
   "metadata": {},
   "outputs": [
    {
     "name": "stdout",
     "output_type": "stream",
     "text": [
      "Sum of random using numpy:\t500026.3899143637\n"
     ]
    }
   ],
   "source": [
    "# using numpy here\n",
    "\n",
    "print(f\"Sum of random using numpy:\\t{np.sum(random_number)}\")"
   ]
  },
  {
   "cell_type": "markdown",
   "id": "a76d2f26",
   "metadata": {},
   "source": [
    "From 2 numpy arrays, extract the indexes in which the elements in the 2 arrays match\n",
    "`[1,2,3,4,5]` and `[1,3,2,4,5]`\n"
   ]
  },
  {
   "cell_type": "code",
   "execution_count": 14,
   "id": "29779400",
   "metadata": {},
   "outputs": [],
   "source": [
    "# Hint: use 'np.where'"
   ]
  },
  {
   "cell_type": "code",
   "execution_count": 15,
   "id": "39da592e",
   "metadata": {},
   "outputs": [
    {
     "name": "stdout",
     "output_type": "stream",
     "text": [
      "(array([0, 3, 4]),)\n"
     ]
    }
   ],
   "source": [
    "arr_1 = np.array([1,2,3,4,5])\n",
    "arr_2 = np.array([1,3,2,4,5])\n",
    "\n",
    "matching_index = np.where(arr_1==arr_2)\n",
    "print(matching_index)"
   ]
  },
  {
   "cell_type": "markdown",
   "id": "968e3b6a",
   "metadata": {},
   "source": [
    "Output a sequence of equally gapped 5 numbers in the range 0 to 100\n",
    "Output: `[  0.  25.  50.  75. 100.]`"
   ]
  },
  {
   "cell_type": "code",
   "execution_count": 16,
   "id": "7d729fc3",
   "metadata": {},
   "outputs": [],
   "source": [
    "# Hint: use np.linspace"
   ]
  },
  {
   "cell_type": "code",
   "execution_count": 17,
   "id": "92c8b8fd",
   "metadata": {},
   "outputs": [
    {
     "name": "stdout",
     "output_type": "stream",
     "text": [
      "[  0.  25.  50.  75. 100.]\n"
     ]
    }
   ],
   "source": [
    "gapped_num =np.linspace(0,100,5)\n",
    "print(gapped_num)"
   ]
  },
  {
   "cell_type": "markdown",
   "id": "ae0c6952",
   "metadata": {},
   "source": [
    "Output a matrix (numpy array) of dimension 2-by-3 with each and every value equal to 5\n",
    "\n",
    "\\begin{bmatrix}\n",
    "5 & 5 & 5 \\\\\n",
    "5 & 5 & 5\n",
    "\\end{bmatrix}"
   ]
  },
  {
   "cell_type": "code",
   "execution_count": 18,
   "id": "8067fcbc",
   "metadata": {},
   "outputs": [
    {
     "name": "stdout",
     "output_type": "stream",
     "text": [
      "[[5 5 5]\n",
      " [5 5 5]]\n"
     ]
    }
   ],
   "source": [
    "arr = np.full((2,3), 5)\n",
    "print(arr)"
   ]
  },
  {
   "cell_type": "markdown",
   "id": "d63e351b",
   "metadata": {},
   "source": [
    "Output a 5-by-5 array of random integers between 0 and 10\n",
    "\n"
   ]
  },
  {
   "cell_type": "code",
   "execution_count": 19,
   "id": "e83cb42d",
   "metadata": {},
   "outputs": [
    {
     "name": "stdout",
     "output_type": "stream",
     "text": [
      "[[ 0  0  1 10  1]\n",
      " [ 4  8  5  5  3]\n",
      " [ 8  4  3  9  7]\n",
      " [ 2  4  5  6  4]\n",
      " [ 5  2  0 10  5]]\n"
     ]
    }
   ],
   "source": [
    "arr = np.random.randint(0,11,(5,5))\n",
    "print(arr)"
   ]
  },
  {
   "cell_type": "markdown",
   "id": "bc8be92f",
   "metadata": {},
   "source": [
    "Dot Product:\n",
    "\\begin{bmatrix}\n",
    "1 & 2 \\\\\n",
    "2 & 3\n",
    "\\end{bmatrix}\n",
    "\n",
    "\\begin{bmatrix}\n",
    "4 & 5 \\\\\n",
    "6 & 7\n",
    "\\end{bmatrix}\n",
    "\n",
    "Dot product is:\n",
    "\\begin{bmatrix}\n",
    "1 \\times 4 + 2 \\times 6 & 2 \\times 4 + 3 \\times 6 \\\\\n",
    "1 \\times 5 + 2 \\times 7 & 2 \\times 5 + 3 \\times 7\n",
    "\\end{bmatrix}\n",
    "\n",
    "Answer: \n",
    "\\begin{bmatrix}\n",
    "16 & 26 \\\\\n",
    "19 & 31\n",
    "\\end{bmatrix}\n",
    "\n",
    "\n",
    "\n",
    "\n",
    "Question: Given 2 numpy arrays as matrices, output the result of Dot the 2 matrices\n",
    "\n",
    "\\begin{bmatrix}\n",
    "1 & 2 & 3 \\\\\n",
    "4 & 5 & 6 \\\\\n",
    "7 & 8 & 9\n",
    "\\end{bmatrix}\n",
    "\n",
    "\\begin{bmatrix}\n",
    "2 & 3 & 4 \\\\\n",
    "5 & 6 & 7 \\\\\n",
    "8 & 9 & 10\n",
    "\\end{bmatrix}\n"
   ]
  },
  {
   "cell_type": "code",
   "execution_count": 20,
   "id": "56568253",
   "metadata": {},
   "outputs": [
    {
     "name": "stdout",
     "output_type": "stream",
     "text": [
      "[[ 36  42  48]\n",
      " [ 81  96 111]\n",
      " [126 150 174]]\n"
     ]
    }
   ],
   "source": [
    "arr_1 = np.array([[1,2,3],[4,5,6], [7,8,9]])\n",
    "arr_2 = np.array([[2,3,4], [5,6,7], [8,9,10]])\n",
    "print(arr_1.dot(arr_2))"
   ]
  },
  {
   "cell_type": "markdown",
   "id": "cabf8458",
   "metadata": {},
   "source": [
    "construct a 2X3 random matrix and transpose it"
   ]
  },
  {
   "cell_type": "code",
   "execution_count": 21,
   "id": "b3af8af5",
   "metadata": {},
   "outputs": [
    {
     "name": "stdout",
     "output_type": "stream",
     "text": [
      "original matrix:\n",
      "[[ 3  3  2]\n",
      " [ 9 15 18]]\n",
      "\n",
      "transpose:\n",
      "[[ 3  9]\n",
      " [ 3 15]\n",
      " [ 2 18]]\n"
     ]
    }
   ],
   "source": [
    "original_mat = np.random.randint(1,20,(2,3))\n",
    "print(f\"original matrix:\\n{original_mat}\")\n",
    "\n",
    "transpose = original_mat.T\n",
    "print(f\"\\ntranspose:\\n{transpose}\")"
   ]
  },
  {
   "attachments": {
    "image.png": {
     "image/png": "[encoded data removed]"
    }
   },
   "cell_type": "markdown",
   "id": "136916a8",
   "metadata": {},
   "source": [
    "numpy.std(arr, axis = None) : Compute the standard deviation of the given data (array elements) along the specified axis(if any)\n",
    "\n",
    "Standard Deviation (SD) is measured as the spread of data distribution in the given data set.\n",
    "![image.png](attachment:image.png)"
   ]
  },
  {
   "cell_type": "markdown",
   "id": "c9837c92",
   "metadata": {},
   "source": [
    "calculate standard deviation of following matrix.\n",
    "\\begin{bmatrix}\n",
    "2 & 2 & 2 & 2 & 2 \\\\\n",
    "15 & 6 & 27 & 8 & 2 \\\\\n",
    "23 & 2 & 54 & 1 & 2 \\\\\n",
    "11 & 44 & 34 & 7 & 2\n",
    "\\end{bmatrix}"
   ]
  },
  {
   "cell_type": "code",
   "execution_count": 22,
   "id": "e0a76a63",
   "metadata": {},
   "outputs": [
    {
     "data": {
      "text/plain": [
       "np.float64(15.3668474320532)"
      ]
     },
     "execution_count": 22,
     "metadata": {},
     "output_type": "execute_result"
    }
   ],
   "source": [
    "# calculate std for flatten (whole std)\n",
    "\n",
    "A = np.array([[2,2,2,2,2], [15,6,27,8,2], [23,2,54,1,2], [11,44,34,7,2]])\n",
    "np.std(A)"
   ]
  },
  {
   "cell_type": "code",
   "execution_count": 23,
   "id": "70f4b58a",
   "metadata": {},
   "outputs": [
    {
     "name": "stdout",
     "output_type": "stream",
     "text": [
      "[ 0.          8.7772433  20.53874388 16.40243884]\n",
      "[ 7.56224173 17.68473918 18.59267329  3.04138127  0.        ]\n"
     ]
    }
   ],
   "source": [
    "# calculate std along axis 0 and 1 also\n",
    "\n",
    "print(np.std(A, axis=1))\n",
    "print(np.std(A, axis = 0))"
   ]
  },
  {
   "attachments": {
    "image.png": {
     "image/png": "[encoded data removed]"
    }
   },
   "cell_type": "markdown",
   "id": "d93200eb",
   "metadata": {},
   "source": [
    "### use case of inverse matrix:\n",
    "\n",
    "- The inverse of a matrix is that matrix which when multiplied with the original matrix will give an identity matrix. \n",
    "\n",
    "- The inverse of a matrix exists only if the matrix is non-singular i.e., the determinant should not be 0. \n",
    "\n",
    "**Formula**\n",
    "\n",
    "if det(A) != 0\n",
    "    A-1 = adj(A)/det(A)\n",
    "else\n",
    "    \"Inverse doesn't exist\"\n",
    "    \n",
    "Usage: to solve equation like this:\n",
    "![image.png](attachment:image.png)\n",
    "\n",
    "Where:\n",
    "\n",
    "A-1: The inverse of matrix A\n",
    "\n",
    "x: The unknown variable column\n",
    "\n",
    "B: The solution matrix\n",
    "\n"
   ]
  },
  {
   "cell_type": "markdown",
   "id": "bfccec67",
   "metadata": {},
   "source": [
    "Inverse the following matrix \n",
    "\\[\n",
    "\\begin{bmatrix}\n",
    "6 & 1 & 1 \\\\\n",
    "4 & -2 & 5 \\\\\n",
    "2 & 8 & 7\n",
    "\\end{bmatrix}\n"
   ]
  },
  {
   "cell_type": "code",
   "execution_count": 24,
   "id": "95a4e18a",
   "metadata": {},
   "outputs": [
    {
     "name": "stdout",
     "output_type": "stream",
     "text": [
      "A:\n",
      "[[ 6  1  3]\n",
      " [ 4 -2  5]\n",
      " [ 2  8  7]]\n",
      "\n",
      "Inverse fo A:\n",
      "[[ 0.23076923 -0.07264957 -0.04700855]\n",
      " [ 0.07692308 -0.15384615  0.07692308]\n",
      " [-0.15384615  0.1965812   0.06837607]]\n"
     ]
    }
   ],
   "source": [
    "A = np.array([[6,1,3],[4,-2,5], [2,8,7]])\n",
    "print(f\"A:\\n{A}\")\n",
    "inv_A = np.linalg.inv(A)\n",
    "print(f\"\\nInverse fo A:\\n{inv_A}\")"
   ]
  },
  {
   "cell_type": "markdown",
   "id": "c1bc1aa8",
   "metadata": {},
   "source": [
    "Load an Image using PIL and convert to numpy array.\n"
   ]
  },
  {
   "cell_type": "code",
   "execution_count": 25,
   "id": "a2028bb0",
   "metadata": {},
   "outputs": [
    {
     "name": "stdout",
     "output_type": "stream",
     "text": [
      "Requirement already satisfied: pillow in c:\\users\\admin\\anaconda3\\lib\\site-packages (11.1.0)\n"
     ]
    }
   ],
   "source": [
    "! pip install pillow"
   ]
  },
  {
   "cell_type": "code",
   "execution_count": 26,
   "id": "5a5cb296",
   "metadata": {},
   "outputs": [
    {
     "name": "stdout",
     "output_type": "stream",
     "text": [
      "[[[255 255 255]\n",
      "  [255 255 255]\n",
      "  [255 255 255]\n",
      "  ...\n",
      "  [255 255 255]\n",
      "  [255 255 255]\n",
      "  [255 255 255]]\n",
      "\n",
      " [[255 255 255]\n",
      "  [255 255 255]\n",
      "  [255 255 255]\n",
      "  ...\n",
      "  [255 255 255]\n",
      "  [255 255 255]\n",
      "  [255 255 255]]\n",
      "\n",
      " [[255 255 255]\n",
      "  [255 255 255]\n",
      "  [255 255 255]\n",
      "  ...\n",
      "  [255 255 255]\n",
      "  [255 255 255]\n",
      "  [255 255 255]]\n",
      "\n",
      " ...\n",
      "\n",
      " [[255 255 255]\n",
      "  [255 255 255]\n",
      "  [255 255 255]\n",
      "  ...\n",
      "  [255 255 255]\n",
      "  [255 255 255]\n",
      "  [255 255 255]]\n",
      "\n",
      " [[255 255 255]\n",
      "  [255 255 255]\n",
      "  [255 255 255]\n",
      "  ...\n",
      "  [255 255 255]\n",
      "  [255 255 255]\n",
      "  [255 255 255]]\n",
      "\n",
      " [[255 255 255]\n",
      "  [255 255 255]\n",
      "  [255 255 255]\n",
      "  ...\n",
      "  [255 255 255]\n",
      "  [255 255 255]\n",
      "  [255 255 255]]]\n",
      "Shape: (571, 800, 3)\n"
     ]
    }
   ],
   "source": [
    "from PIL import Image\n",
    "image = Image.open(r\"D:\\AI learning\\numpy\\anything.jpg\")\n",
    "image_array = np.array(image)\n",
    "\n",
    "print(image_array)\n",
    "print(\"Shape:\", image_array.shape)"
   ]
  },
  {
   "cell_type": "markdown",
   "id": "f3fd12d8",
   "metadata": {},
   "source": [
    "convert dictionary {0: 0, 1: 1, 2: 8, 3: 27,\n",
    "                4: 64, 5: 125, 6: 216}\n",
    "to array"
   ]
  },
  {
   "cell_type": "code",
   "execution_count": 27,
   "id": "23f62fa3",
   "metadata": {},
   "outputs": [
    {
     "name": "stdout",
     "output_type": "stream",
     "text": [
      "[  0   1   8  27  64 125 216]\n"
     ]
    }
   ],
   "source": [
    "data = {0: 0, 1: 1, 2: 8, 3: 27, 4: 64, 5: 125, 6: 216}\n",
    "arr = np.array(list(data.values()))\n",
    "print(arr)"
   ]
  },
  {
   "attachments": {
    "image.png": {
     "image/png": "[encoded data removed]"
    }
   },
   "cell_type": "markdown",
   "id": "4324d8b6",
   "metadata": {},
   "source": [
    "Solve the Following Equation\n",
    "\n",
    "![image.png](attachment:image.png)"
   ]
  },
  {
   "cell_type": "code",
   "execution_count": 28,
   "id": "7f3f8b00",
   "metadata": {},
   "outputs": [
    {
     "name": "stdout",
     "output_type": "stream",
     "text": [
      "Solution: [2.4 3.  1.2]\n"
     ]
    }
   ],
   "source": [
    "import numpy as np\n",
    "a = np.array([[3,1,-1], [2,-1,1], [1,2,3]])\n",
    "b = np.array([9,3,12])\n",
    "solutions = np.linalg.solve(a,b)\n",
    "print(\"Solution:\", solutions)"
   ]
  },
  {
   "cell_type": "markdown",
   "id": "e2fbef37",
   "metadata": {},
   "source": [
    "Write a NumPy program to create a 3x3x3 array with random values and flatten it to a 1D array.\n"
   ]
  },
  {
   "cell_type": "code",
   "execution_count": 29,
   "id": "c35e05be",
   "metadata": {},
   "outputs": [
    {
     "name": "stdout",
     "output_type": "stream",
     "text": [
      "[[[0.32851851 0.36207172 0.32578804]\n",
      "  [0.41669802 0.40474787 0.04315677]\n",
      "  [0.94334051 0.74270286 0.24399568]]\n",
      "\n",
      " [[0.66421605 0.39236544 0.27152966]\n",
      "  [0.12568014 0.48430386 0.47341566]\n",
      "  [0.33541064 0.28046841 0.29678459]]\n",
      "\n",
      " [[0.09262634 0.10160538 0.6105381 ]\n",
      "  [0.81257862 0.06685963 0.08511059]\n",
      "  [0.69798438 0.19675073 0.60874229]]]\n",
      "[0.32851851 0.36207172 0.32578804 0.41669802 0.40474787 0.04315677\n",
      " 0.94334051 0.74270286 0.24399568 0.66421605 0.39236544 0.27152966\n",
      " 0.12568014 0.48430386 0.47341566 0.33541064 0.28046841 0.29678459\n",
      " 0.09262634 0.10160538 0.6105381  0.81257862 0.06685963 0.08511059\n",
      " 0.69798438 0.19675073 0.60874229]\n"
     ]
    }
   ],
   "source": [
    "a = np.random.random((3,3,3))\n",
    "print(a)\n",
    "print(a.reshape(-1))"
   ]
  },
  {
   "cell_type": "markdown",
   "id": "34e26b32",
   "metadata": {},
   "source": [
    "Write a NumPy program to create a 3x3 array with random values and calculate the pairwise Euclidean distance between each pair of rows."
   ]
  },
  {
   "cell_type": "code",
   "execution_count": 30,
   "id": "0b99a3aa",
   "metadata": {},
   "outputs": [
    {
     "name": "stdout",
     "output_type": "stream",
     "text": [
      "Original array: \n",
      " [[0.56503688 0.98799072 0.30752087]\n",
      " [0.07233901 0.40275674 0.16778089]\n",
      " [0.57223341 0.42274326 0.53452977]]\n"
     ]
    }
   ],
   "source": [
    "array = np.random.random((3,3))\n",
    "print(\"Original array:\", \"\\n\", array)"
   ]
  },
  {
   "cell_type": "code",
   "execution_count": 31,
   "id": "ccd85333",
   "metadata": {},
   "outputs": [
    {
     "name": "stdout",
     "output_type": "stream",
     "text": [
      "Pairwise Euclidean distance:\n",
      " [[0.         0.77767426 0.60917117]\n",
      " [0.77767426 0.         0.62032137]\n",
      " [0.60917117 0.62032137 0.        ]]\n"
     ]
    }
   ],
   "source": [
    "# Pairwise Euclidean distance\n",
    "\n",
    "eud_dist = np.linalg.norm(array[:, np.newaxis] - array, axis=2)\n",
    "print(\"Pairwise Euclidean distance:\\n\", eud_dist)"
   ]
  }
 ],
 "metadata": {
  "kernelspec": {
   "display_name": "base",
   "language": "python",
   "name": "python3"
  },
  "language_info": {
   "codemirror_mode": {
    "name": "ipython",
    "version": 3
   },
   "file_extension": ".py",
   "mimetype": "text/x-python",
   "name": "python",
   "nbconvert_exporter": "python",
   "pygments_lexer": "ipython3",
   "version": "3.13.5"
  }
 },
 "nbformat": 4,
 "nbformat_minor": 5
}
